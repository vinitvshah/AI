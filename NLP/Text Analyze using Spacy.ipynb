{
  "nbformat": 4,
  "nbformat_minor": 0,
  "metadata": {
    "colab": {
      "name": "Untitled0.ipynb",
      "provenance": [],
      "collapsed_sections": [],
      "authorship_tag": "ABX9TyOmns6WYuIaylOOT4Xyi0Ot",
      "include_colab_link": true
    },
    "kernelspec": {
      "name": "python3",
      "display_name": "Python 3"
    },
    "language_info": {
      "name": "python"
    }
  },
  "cells": [
    {
      "cell_type": "markdown",
      "metadata": {
        "id": "view-in-github",
        "colab_type": "text"
      },
      "source": [
        "<a href=\"https://colab.research.google.com/github/vinitvshah/AI/blob/main/Text%20Analyze%20using%20Spacy.ipynb\" target=\"_parent\"><img src=\"https://colab.research.google.com/assets/colab-badge.svg\" alt=\"Open In Colab\"/></a>"
      ]
    },
    {
      "cell_type": "markdown",
      "source": [
        "# **Text Analyze using NLP**"
      ],
      "metadata": {
        "id": "z0d3FIPMVID8"
      }
    },
    {
      "cell_type": "markdown",
      "source": [
        "Import spacy and use the spacy.blank method to create a blank English pipeline. You can use the nlp object like a function to analyze text.\n",
        "\n",
        "It contains the processing pipeline and language-specific rules for tokenization."
      ],
      "metadata": {
        "id": "fo59J8JCU4rY"
      }
    },
    {
      "cell_type": "code",
      "execution_count": 1,
      "metadata": {
        "id": "1P3maj9CUmql"
      },
      "outputs": [],
      "source": [
        "# Import spaCy\n",
        "import spacy\n",
        "\n",
        "# Create a blank English nlp object\n",
        "nlp = spacy.blank(\"en\")"
      ]
    },
    {
      "cell_type": "code",
      "source": [
        "# Created by processing a string of text with the nlp object\n",
        "doc = nlp(\"Hello world!\")\n",
        "\n",
        "# Iterate over tokens in a Doc\n",
        "for token in doc:\n",
        "    print(token.text)"
      ],
      "metadata": {
        "colab": {
          "base_uri": "https://localhost:8080/"
        },
        "id": "bQ5Wpge_UxeU",
        "outputId": "9d7e9735-cff4-49a7-fdc1-08c40620b637"
      },
      "execution_count": 2,
      "outputs": [
        {
          "output_type": "stream",
          "name": "stdout",
          "text": [
            "Hello\n",
            "world\n",
            "!\n"
          ]
        }
      ]
    },
    {
      "cell_type": "code",
      "source": [
        "doc = nlp(\"Hello world!\")\n",
        "\n",
        "# Index into the Doc to get a single Token\n",
        "token = doc[1]\n",
        "\n",
        "# Get the token text via the .text attribute\n",
        "print(token.text)"
      ],
      "metadata": {
        "colab": {
          "base_uri": "https://localhost:8080/"
        },
        "id": "RRyrmYQLV_mV",
        "outputId": "ab560e1e-527a-4239-fe9f-20271b9912ff"
      },
      "execution_count": 3,
      "outputs": [
        {
          "output_type": "stream",
          "name": "stdout",
          "text": [
            "world\n"
          ]
        }
      ]
    },
    {
      "cell_type": "markdown",
      "source": [
        "Lexical attributes: they refer to the entry in the vocabulary and don't depend on the token's context\n"
      ],
      "metadata": {
        "id": "xkMD2BjBWseH"
      }
    },
    {
      "cell_type": "code",
      "source": [
        "doc = nlp(\"It costs $5.\")\n",
        "print(\"Index:   \", [token.i for token in doc])\n",
        "print(\"Text:    \", [token.text for token in doc])\n",
        "\n",
        "print(\"is_alpha:\", [token.is_alpha for token in doc])\n",
        "print(\"is_punct:\", [token.is_punct for token in doc])\n",
        "print(\"like_num:\", [token.like_num for token in doc])"
      ],
      "metadata": {
        "colab": {
          "base_uri": "https://localhost:8080/"
        },
        "id": "UH_pzSB5WvnZ",
        "outputId": "b656e255-d28f-4979-ea70-d3952c1c3507"
      },
      "execution_count": 4,
      "outputs": [
        {
          "output_type": "stream",
          "name": "stdout",
          "text": [
            "Index:    [0, 1, 2, 3, 4]\n",
            "Text:     ['It', 'costs', '$', '5', '.']\n",
            "is_alpha: [True, True, False, False, False]\n",
            "is_punct: [False, False, False, False, True]\n",
            "like_num: [False, False, False, True, False]\n"
          ]
        }
      ]
    }
  ]
}